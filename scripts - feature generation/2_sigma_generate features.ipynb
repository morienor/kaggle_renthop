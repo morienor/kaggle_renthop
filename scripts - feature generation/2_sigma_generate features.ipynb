{
 "cells": [
  {
   "cell_type": "code",
   "execution_count": 8,
   "metadata": {
    "collapsed": false
   },
   "outputs": [
    {
     "name": "stderr",
     "output_type": "stream",
     "text": [
      "//anaconda/envs/py35/lib/python3.5/site-packages/IPython/html.py:14: ShimWarning: The `IPython.html` package has been deprecated. You should import from `notebook` instead. `IPython.html.widgets` has moved to `ipywidgets`.\n",
      "  \"`IPython.html.widgets` has moved to `ipywidgets`.\", ShimWarning)\n"
     ]
    }
   ],
   "source": [
    "import numpy as np # linear algebra\n",
    "import pandas as pd # data processing, CSV file I/O (e.g. pd.read_csv)\n",
    "import matplotlib.pyplot as plt\n",
    "import seaborn as sns\n",
    "color = sns.color_palette()\n",
    "\n",
    "%matplotlib inline\n",
    "\n",
    "pd.options.mode.chained_assignment = None  # default='warn'"
   ]
  },
  {
   "cell_type": "code",
   "execution_count": 17,
   "metadata": {
    "collapsed": false
   },
   "outputs": [],
   "source": [
    "train_df = pd.read_json(\"./input/train.json\")\n",
    "train_df.reset_index(inplace = True)\n",
    "#test_dr =  pd.read_json(\"./input/test.json\")"
   ]
  },
  {
   "cell_type": "markdown",
   "metadata": {},
   "source": [
    "## This section generates price features"
   ]
  },
  {
   "cell_type": "code",
   "execution_count": 50,
   "metadata": {
    "collapsed": true
   },
   "outputs": [],
   "source": [
    "#create a log transformed version of price\n",
    "train_df['price_log'] = np.log(train_df['price'])\n",
    "\n",
    "# create a version of log price variable with very high and very low values clipped\n",
    "high_limit = np.percentile(train_df.price_log.values, 99) #get 99th percentile\n",
    "low_limit = np.percentile(train_df.price_log.values, 1) #get 1th percentile\n",
    "train_df['price_log_cut'] = train_df['price_log']\n",
    "train_df['price_log_cut'].ix[train_df['price_log']>high_limit] = high_limit\n",
    "train_df['price_log_cut'].ix[train_df['price_log']<low_limit] = low_limit\n",
    "\n",
    "#also create a version with normal values - but clip them.\n",
    "high_limit = np.percentile(train_df.price.values, 99) #get 99th percentile\n",
    "low_limit = np.percentile(train_df.price.values, 1) #get 1th percentile\n",
    "train_df['price_cut'] = train_df['price']\n",
    "train_df['price_cut'].ix[train_df['price']>high_limit] = high_limit\n",
    "train_df['price_cut'].ix[train_df['price']<low_limit] = low_limit"
   ]
  },
  {
   "cell_type": "code",
   "execution_count": 51,
   "metadata": {
    "collapsed": false
   },
   "outputs": [],
   "source": [
    "# create a version of variable that has offset value relative to median\n",
    "train_df['price_cut_offset'] = train_df['price_cut'] - np.median(train_df['price_cut'])\n",
    "train_df['price_log_cut_offset'] = train_df['price_log_cut'] - np.median(train_df['price_log_cut'])"
   ]
  },
  {
   "cell_type": "code",
   "execution_count": 52,
   "metadata": {
    "collapsed": false
   },
   "outputs": [],
   "source": [
    "features = [\"price_cut_offset\",\"price_log_cut_offset\"]\n",
    "with open(\"./features/simple_price_features\", \"wb\") as f:\n",
    "    pickle.dump(train_df[features], f, pickle.HIGHEST_PROTOCOL)"
   ]
  },
  {
   "cell_type": "markdown",
   "metadata": {},
   "source": [
    "# This section looks at the text description"
   ]
  },
  {
   "cell_type": "markdown",
   "metadata": {},
   "source": [
    "it might be actually useful to see the number of punctuatios (like!!! or ! ) in the text description"
   ]
  },
  {
   "cell_type": "code",
   "execution_count": 18,
   "metadata": {
    "collapsed": false
   },
   "outputs": [],
   "source": [
    "import numpy as np\n",
    "import pandas as pd\n",
    "#from utils import getTFV, getBOW, dump_feat_name\n",
    "from sklearn.metrics.pairwise import cosine_similarity, pairwise_distances\n",
    "from sklearn.feature_extraction.text import CountVectorizer, TfidfVectorizer\n",
    "import pickle\n",
    "from copy import copy\n",
    "from gensim.matutils import corpus2csc\n",
    "from gensim import corpora, models, similarities\n",
    "from gensim.models import Phrases\n",
    "from nltk import bigrams as bgm\n",
    "import codecs\n",
    "import os.path\n",
    "import glob\n",
    "import os\n",
    "import ast\n",
    "import re\n",
    "from bs4 import BeautifulSoup "
   ]
  },
  {
   "cell_type": "code",
   "execution_count": 19,
   "metadata": {
    "collapsed": false
   },
   "outputs": [],
   "source": [
    "import nltk\n",
    "#nltk.download()  \n",
    "from nltk.corpus import stopwords # Import the stop word list"
   ]
  },
  {
   "cell_type": "code",
   "execution_count": 20,
   "metadata": {
    "collapsed": false
   },
   "outputs": [],
   "source": [
    "def description_to_words( raw_description ):\n",
    "    # Function to convert a raw description to string of words\n",
    "    # The input is a single string (a raw description), and \n",
    "    # the output is a single string (a preprocessed description)\n",
    "    #\n",
    "    \n",
    "    # 1. give tags and markup an extra space - otherwise gets squashed together later on\n",
    "    \n",
    "    raw_description_1 = re.sub(\"<\",           # The pattern to search for\n",
    "                          \"  <\",                   # The pattern to replace it with\n",
    "                          str(raw_description) )  # The text to search\n",
    "\n",
    "    raw_description_2 = re.sub(\">\",           # The pattern to search for\n",
    "                          \"> \",                   # The pattern to replace it with\n",
    "                          str(raw_description_1) ) \n",
    "    \n",
    "    \n",
    "    # 2. Remove HTML\n",
    "    review_desc = BeautifulSoup(raw_description_2,\"html.parser\").get_text() \n",
    "    #\n",
    "\n",
    "    # 3. Remove non-letters        \n",
    "    letters_only = re.sub(\"[^a-zA-Z]\", \" \", review_desc) \n",
    "    #\n",
    "    \n",
    "    # 4. Convert to lower case, split into individual words\n",
    "    words = letters_only.lower().split()  \n",
    "    \n",
    "    # 5. In Python, searching a set is much faster than searching\n",
    "    #   a list, so convert the stop words to a set\n",
    "    stops = set(stopwords.words(\"english\"))                  \n",
    "    # \n",
    "    # 6. Remove stop words\n",
    "    meaningful_words = [w for w in words if not w in stops]   \n",
    "    #\n",
    "    # 7. Join the words back into one string separated by space, \n",
    "    # and return the result.\n",
    "    return( \" \".join( meaningful_words )) "
   ]
  },
  {
   "cell_type": "code",
   "execution_count": 24,
   "metadata": {
    "collapsed": false
   },
   "outputs": [
    {
     "name": "stdout",
     "output_type": "stream",
     "text": [
      "Top Top West Village location, beautiful Pre-war building with laundry in the basement and live in super!<br/><br/>Apartment features a large bedroom with closet. Separate living room, kitchen features granite tops, dishwasher and microwave included, marble bathroom and hardwood flooring. Building is very well maintained and conveniently located near A,C,E,L,1,2,3 trains. Surrounded by many local cafe?s, restaurants, available for November 1st move in!<br/><br/>To view this apartment or any other please contact me via email or call at the number listed.<br/><br/><br/><br/><br/><br/>Bond New York is a real estate broker that supports equal housing opportunity.<p><a  website_redacted \n",
      "\n",
      "top top west village location beautiful pre war building laundry basement live super apartment features large bedroom closet separate living room kitchen features granite tops dishwasher microwave included marble bathroom hardwood flooring building well maintained conveniently located near c e l trains surrounded many local cafe restaurants available november st move view apartment please contact via email call number listed bond new york real estate broker supports equal housing opportunity\n"
     ]
    }
   ],
   "source": [
    "#test_1 = BeautifulSoup(train_df[\"temp\"][10],\"html.parser\")\n",
    "test_11 = description_to_words(train_df[\"description\"][2])\n",
    "print (train_df[\"description\"][2])\n",
    "print()\n",
    "print (test_11)"
   ]
  },
  {
   "cell_type": "code",
   "execution_count": 27,
   "metadata": {
    "collapsed": false
   },
   "outputs": [
    {
     "name": "stdout",
     "output_type": "stream",
     "text": [
      "Cleaning and parsing the training set movie reviews...\n",
      "\n",
      "Review 5000 of 49352\n",
      "\n",
      "Review 10000 of 49352\n",
      "\n",
      "Review 15000 of 49352\n",
      "\n",
      "Review 20000 of 49352\n",
      "\n",
      "Review 25000 of 49352\n",
      "\n",
      "Review 30000 of 49352\n",
      "\n",
      "Review 35000 of 49352\n",
      "\n"
     ]
    },
    {
     "name": "stderr",
     "output_type": "stream",
     "text": [
      "//anaconda/envs/py35/lib/python3.5/site-packages/bs4/__init__.py:219: UserWarning: \"b'.'\" looks like a filename, not markup. You shouldprobably open this file and pass the filehandle intoBeautiful Soup.\n",
      "  'Beautiful Soup.' % markup)\n"
     ]
    },
    {
     "name": "stdout",
     "output_type": "stream",
     "text": [
      "Review 40000 of 49352\n",
      "\n",
      "Review 45000 of 49352\n",
      "\n"
     ]
    }
   ],
   "source": [
    "print (\"Cleaning and parsing the training set movie reviews...\\n\")\n",
    "num_descriptions = train_df[\"description\"].size\n",
    "\n",
    "clean_train_description = []\n",
    "for i in range(0, num_descriptions):\n",
    "    # If the index is evenly divisible by 5000, print a message\n",
    "    if( (i+1)%5000 == 0 ):\n",
    "        print( \"Description %d of %d\\n\" % ( i+1, num_descriptions ) )                                                                   \n",
    "    clean_train_description.append( description_to_words( train_df[\"description\"][i] ))"
   ]
  },
  {
   "cell_type": "code",
   "execution_count": 45,
   "metadata": {
    "collapsed": false
   },
   "outputs": [
    {
     "name": "stdout",
     "output_type": "stream",
     "text": [
      "(49352, 50)\n"
     ]
    }
   ],
   "source": [
    "vectorizer = CountVectorizer(analyzer = \"word\",   \\\n",
    "                             tokenizer = None,    \\\n",
    "                             preprocessor = None, \\\n",
    "                             stop_words = None,   \\\n",
    "                             max_features = 50) \n",
    "\n",
    "train_data_features = vectorizer.fit_transform(clean_train_description)\n",
    "train_data_features = train_data_features.toarray()\n",
    "train_text_bow_features = pd.DataFrame(train_data_features)\n",
    "print (train_text_bow_features.shape)"
   ]
  },
  {
   "cell_type": "code",
   "execution_count": 46,
   "metadata": {
    "collapsed": false
   },
   "outputs": [
    {
     "name": "stdout",
     "output_type": "stream",
     "text": [
      "['apartment', 'appliances', 'area', 'bathroom', 'beautiful', 'bedroom', 'building', 'call', 'ceilings', 'city', 'closet', 'com', 'contact', 'dishwasher', 'doorman', 'east', 'email', 'features', 'fee', 'floor', 'floors', 'full', 'granite', 'great', 'hardwood', 'high', 'kagglemanager', 'kitchen', 'large', 'laundry', 'living', 'located', 'location', 'marble', 'new', 'one', 'park', 'private', 'renovated', 'renthop', 'restaurants', 'room', 'space', 'spacious', 'stainless', 'steel', 'text', 'unit', 'windows', 'york']\n"
     ]
    }
   ],
   "source": [
    "vocab = vectorizer.get_feature_names()\n",
    "print (vocab)"
   ]
  },
  {
   "cell_type": "code",
   "execution_count": 34,
   "metadata": {
    "collapsed": false
   },
   "outputs": [],
   "source": []
  },
  {
   "cell_type": "code",
   "execution_count": 47,
   "metadata": {
    "collapsed": false
   },
   "outputs": [],
   "source": [
    "with open(\"./features/bow\", \"wb\") as f:\n",
    "    pickle.dump(train_text_bow_features, f, pickle.HIGHEST_PROTOCOL)"
   ]
  },
  {
   "cell_type": "code",
   "execution_count": null,
   "metadata": {
    "collapsed": true
   },
   "outputs": [],
   "source": []
  }
 ],
 "metadata": {
  "kernelspec": {
   "display_name": "Python [conda env:py35]",
   "language": "python",
   "name": "conda-env-py35-py"
  },
  "language_info": {
   "codemirror_mode": {
    "name": "ipython",
    "version": 3
   },
   "file_extension": ".py",
   "mimetype": "text/x-python",
   "name": "python",
   "nbconvert_exporter": "python",
   "pygments_lexer": "ipython3",
   "version": "3.5.2"
  }
 },
 "nbformat": 4,
 "nbformat_minor": 1
}
