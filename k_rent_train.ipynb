{
 "cells": [
  {
   "cell_type": "markdown",
   "metadata": {},
   "source": [
    "## Load all libraries"
   ]
  },
  {
   "cell_type": "code",
   "execution_count": 36,
   "metadata": {
    "collapsed": true
   },
   "outputs": [],
   "source": [
    "import pandas as pd\n",
    "import numpy as np\n",
    "from sklearn.metrics import log_loss"
   ]
  },
  {
   "cell_type": "markdown",
   "metadata": {},
   "source": [
    "## Load train set and build simple features"
   ]
  },
  {
   "cell_type": "code",
   "execution_count": 32,
   "metadata": {
    "collapsed": false
   },
   "outputs": [
    {
     "name": "stdout",
     "output_type": "stream",
     "text": [
      "49352\n"
     ]
    }
   ],
   "source": [
    "%run \"scripts/start.py\"\n",
    "df_full, df_train, df_test = IO_full()\n",
    "print(len(df_train))\n",
    "df_full, df_test = None, None # This notebook is for validation, no test set needed\n",
    "df_train = make_simple_features(df_train)\n",
    "simple_feats = [\"bathrooms\", \"bedrooms\", \"price\",        \n",
    "                \"num_photos\", \"num_features\", \"num_description_words\",                    \n",
    "                \"created_month\", \"created_day\", \"created_hour\"\n",
    "            ]"
   ]
  },
  {
   "cell_type": "markdown",
   "metadata": {},
   "source": [
    "## Load features"
   ]
  },
  {
   "cell_type": "code",
   "execution_count": 20,
   "metadata": {
    "collapsed": false
   },
   "outputs": [],
   "source": [
    "cluster_feat = pd.read_csv(\"features/mk/train_kmean_ft.csv\")\n",
    "assert len(cluster_feat) == 49352"
   ]
  },
  {
   "cell_type": "markdown",
   "metadata": {},
   "source": [
    "## Merge all features with df_train"
   ]
  },
  {
   "cell_type": "code",
   "execution_count": 33,
   "metadata": {
    "collapsed": true
   },
   "outputs": [],
   "source": [
    "df_train = pd.merge(df_train, cluster_feat, left_index=True, right_index=True)"
   ]
  },
  {
   "cell_type": "markdown",
   "metadata": {},
   "source": [
    "## Fit model "
   ]
  },
  {
   "cell_type": "code",
   "execution_count": 38,
   "metadata": {
    "collapsed": false
   },
   "outputs": [
    {
     "name": "stdout",
     "output_type": "stream",
     "text": [
      "Referring to both the seen data and the train fold as 'train' is confusing so tell me if you have better terminology\n",
      "0.641364199123\n"
     ]
    }
   ],
   "source": [
    "def fit_classifier(X_train, y_train):\n",
    "    from sklearn.ensemble import RandomForestClassifier as RFC\n",
    "    clf=RFC(n_estimators=1000, random_state=42)\n",
    "    clf.fit(X_train, y_train)\n",
    "    return clf   \n",
    "\n",
    "features = simple_feats + [\"cluster_35\"]\n",
    "\n",
    "target_num_map={\"high\":0, \"medium\":1, \"low\":2}\n",
    "df_train[\"interest_level_num\"]=df_train[\"interest_level\"].apply(lambda x: target_num_map[x]).values\n",
    "\n",
    "train_index, valid_index = IO_SkF()\n",
    "\n",
    "print(\"Referring to both the seen data and the train fold as 'train' is confusing so tell me if you have better terminology\")\n",
    "X_train, y_train =df_train.loc[train_index, features].copy(deep=True), df_train.loc[train_index, \"interest_level_num\"].copy(deep=True) \n",
    "X_val, y_val = df_train.loc[valid_index, features].copy(deep=True), df_train.loc[valid_index, \"interest_level_num\"].copy(deep=True)\n",
    "\n",
    "for col in features:\n",
    "    assert len(X_train[X_train[col].isnull()]) == 0   \n",
    "\n",
    "clf = fit_classifier(X_train, y_train)\n",
    "y_val_pred = clf.predict_proba(X_val)\n",
    "print(log_loss(y_val, y_val_pred))"
   ]
  },
  {
   "cell_type": "code",
   "execution_count": null,
   "metadata": {
    "collapsed": true
   },
   "outputs": [],
   "source": []
  }
 ],
 "metadata": {
  "anaconda-cloud": {},
  "kernelspec": {
   "display_name": "Python [conda root]",
   "language": "python",
   "name": "conda-root-py"
  },
  "language_info": {
   "codemirror_mode": {
    "name": "ipython",
    "version": 3
   },
   "file_extension": ".py",
   "mimetype": "text/x-python",
   "name": "python",
   "nbconvert_exporter": "python",
   "pygments_lexer": "ipython3",
   "version": "3.5.2"
  }
 },
 "nbformat": 4,
 "nbformat_minor": 1
}
