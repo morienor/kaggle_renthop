{
 "cells": [
  {
   "cell_type": "code",
   "execution_count": 1,
   "metadata": {
    "collapsed": true
   },
   "outputs": [],
   "source": [
    "import pandas as pd\n",
    "import numpy as np\n",
    "from sklearn.metrics import log_loss"
   ]
  },
  {
   "cell_type": "code",
   "execution_count": 16,
   "metadata": {
    "collapsed": false
   },
   "outputs": [
    {
     "name": "stdout",
     "output_type": "stream",
     "text": [
      "49352\n"
     ]
    }
   ],
   "source": [
    "%run \"./scripts/start.py\"\n",
    "df_full, df_train, df_test = IO_full()\n",
    "print(len(df_train))\n",
    "df_full, df_test = None, None # This notebook is for validation, no test set needed\n",
    "df_train = make_simple_features(df_train)\n",
    "simple_feats = [\"bathrooms\", \"bedrooms\", \"price\",        \n",
    "                \"num_photos\", \"num_features\", \"num_description_words\",                    \n",
    "                \"created_month\", \"created_day\", \"created_hour\"\n",
    "            ]"
   ]
  },
  {
   "cell_type": "code",
   "execution_count": 21,
   "metadata": {
    "collapsed": true
   },
   "outputs": [],
   "source": [
    "#import os\n",
    "#cwd = os.getcwd()"
   ]
  },
  {
   "cell_type": "code",
   "execution_count": 18,
   "metadata": {
    "collapsed": false
   },
   "outputs": [],
   "source": [
    "cluster_feat = pd.read_csv(\"./features/mk/train_kmean_ft.csv\")\n",
    "assert len(cluster_feat) == 49352"
   ]
  },
  {
   "cell_type": "code",
   "execution_count": 19,
   "metadata": {
    "collapsed": false
   },
   "outputs": [],
   "source": [
    "df_train = pd.merge(df_train, cluster_feat, left_index=True, right_index=True)"
   ]
  },
  {
   "cell_type": "markdown",
   "metadata": {},
   "source": [
    "## It was faster to just use your function that defines folds, than to set up a function to read files and assemble them in the right order. Results are the same and should be consistent, because random state is defined."
   ]
  },
  {
   "cell_type": "code",
   "execution_count": 31,
   "metadata": {
    "collapsed": true
   },
   "outputs": [],
   "source": [
    "def make_folds(df_train, df_test):\n",
    "    from sklearn.model_selection import StratifiedKFold\n",
    "    col_feats = [col for col in df_train if col != \"interest_level\"]\n",
    "    X = df_train[col_feats]\n",
    "    target_num_map={\"high\":0, \"medium\":1, \"low\":2}\n",
    "    y = df_train[\"interest_level\"].apply(lambda x: target_num_map[x])\n",
    "    skf = StratifiedKFold(n_splits=5, random_state = 0)\n",
    "    skf.get_n_splits(X, y)\n",
    "    return skf"
   ]
  },
  {
   "cell_type": "code",
   "execution_count": 59,
   "metadata": {
    "collapsed": false
   },
   "outputs": [
    {
     "name": "stdout",
     "output_type": "stream",
     "text": [
      "[ 0.68104073  0.67163068  0.66798303  0.67041652  0.66906537]\n",
      "average error 0.672027262563\n"
     ]
    }
   ],
   "source": [
    "from sklearn.ensemble import RandomForestClassifier as RFC\n",
    "from sklearn.model_selection import cross_val_score\n",
    "from sklearn.model_selection import cross_val_predict\n",
    "\n",
    "clf=RFC(n_estimators=100, random_state=42)\n",
    "\n",
    "# define CV split functionaly\n",
    "cv_sets_mk = make_folds(df_train,df_test)\n",
    "#train_index, valid_index = IO_SkF()\n",
    "\n",
    "features = simple_feats + [\"cluster_35\"]\n",
    "\n",
    "target_num_map={\"high\":0, \"medium\":1, \"low\":2}\n",
    "df_train[\"interest_level_num\"]=df_train[\"interest_level\"].apply(lambda x: target_num_map[x]).values\n",
    "\n",
    "#print(\"Referring to both the seen data and the train fold as 'train' is confusing so tell me if you have better terminology\")\n",
    "#X_train, y_train =df_train.loc[train_index, features].copy(deep=True), df_train.loc[train_index, \"interest_level_num\"].copy(deep=True) \n",
    "#X_val, y_val = df_train.loc[valid_index, features].copy(deep=True), df_train.loc[valid_index, \"interest_level_num\"].copy(deep=True)\n",
    "\n",
    "#for col in features:\n",
    "#    assert len(X_train[X_train[col].isnull()]) == 0   \n",
    "\n",
    "\n",
    "#the scoring here is defined as negative log-loss metric, don't know why, but easy to change - just multipy by -1\n",
    "cross_val_scores = cross_val_score(clf, df_train[features], df_train[\"interest_level_num\"], cv=cv_sets_mk, scoring='neg_log_loss')\n",
    "print(-cross_val_scores)\n",
    "print(\"average error\", np.average(-cross_val_scores))\n",
    "#y_val_pred = cross_val_predict(clf,df_train[features])\n",
    "\n",
    "#Unfortunately we can't get to complete array of predictions from CV - this is know issue with multiclass regression problems\n",
    "#cross_val_predict returns an array of the same size as `y` where each entry\n",
    "# is a prediction obtained by cross validation:\n",
    "#y_val_pred = cross_val_predict(clf, df_train[features], df_train[\"interest_level_num\"], cv=cv_sets_mk, n_jobs = -1)"
   ]
  },
  {
   "cell_type": "code",
   "execution_count": 60,
   "metadata": {
    "collapsed": false
   },
   "outputs": [],
   "source": [
    "# this is the actual model training for submission\n",
    "clf_full = clf.fit(df_train[features], df_train[\"interest_level_num\"])"
   ]
  },
  {
   "cell_type": "code",
   "execution_count": null,
   "metadata": {
    "collapsed": false
   },
   "outputs": [],
   "source": []
  },
  {
   "cell_type": "code",
   "execution_count": null,
   "metadata": {
    "collapsed": false
   },
   "outputs": [],
   "source": []
  },
  {
   "cell_type": "code",
   "execution_count": null,
   "metadata": {
    "collapsed": true
   },
   "outputs": [],
   "source": []
  }
 ],
 "metadata": {
  "anaconda-cloud": {},
  "kernelspec": {
   "display_name": "Python [conda env:py35]",
   "language": "python",
   "name": "conda-env-py35-py"
  },
  "language_info": {
   "codemirror_mode": {
    "name": "ipython",
    "version": 3
   },
   "file_extension": ".py",
   "mimetype": "text/x-python",
   "name": "python",
   "nbconvert_exporter": "python",
   "pygments_lexer": "ipython3",
   "version": "3.5.2"
  }
 },
 "nbformat": 4,
 "nbformat_minor": 1
}
