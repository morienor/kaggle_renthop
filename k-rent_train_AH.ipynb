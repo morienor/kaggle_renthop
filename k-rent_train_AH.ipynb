{
 "cells": [
  {
   "cell_type": "code",
   "execution_count": 1,
   "metadata": {
    "collapsed": true
   },
   "outputs": [],
   "source": [
    "import pandas as pd\n",
    "import numpy as np\n",
    "from sklearn.metrics import log_loss"
   ]
  },
  {
   "cell_type": "code",
   "execution_count": 2,
   "metadata": {
    "collapsed": false
   },
   "outputs": [
    {
     "name": "stdout",
     "output_type": "stream",
     "text": [
      "49352\n"
     ]
    }
   ],
   "source": [
    "%run \"./scripts/start.py\"\n",
    "df_full, df_train, df_test = IO_full()\n",
    "print(len(df_train))\n",
    "df_full, df_test = None, None # This notebook is for validation, no test set needed\n",
    "df_train = make_simple_features(df_train)\n",
    "simple_feats = [\"bathrooms\", \"bedrooms\", \"price\",        \n",
    "                \"num_photos\", \"num_features\", \"num_description_words\",                    \n",
    "                \"created_month\", \"created_day\", \"created_hour\"\n",
    "            ]"
   ]
  },
  {
   "cell_type": "code",
   "execution_count": null,
   "metadata": {
    "collapsed": false
   },
   "outputs": [],
   "source": [
    "import os\n",
    "os.getcwd()"
   ]
  },
  {
   "cell_type": "code",
   "execution_count": 3,
   "metadata": {
    "collapsed": false
   },
   "outputs": [],
   "source": [
    "#read cluster_features\n",
    "cluster_feat = pd.read_csv(\"./features/mk/train_kmean_ft.csv\")\n",
    "assert len(cluster_feat) == 49352"
   ]
  },
  {
   "cell_type": "code",
   "execution_count": 4,
   "metadata": {
    "collapsed": false
   },
   "outputs": [],
   "source": [
    "#read simple price features\n",
    "price_f_path = \"./features/ah/simple_price_features\"\n",
    "with open(price_f_path, \"rb\") as f:\n",
    "    price_features = pickle.load(f)"
   ]
  },
  {
   "cell_type": "code",
   "execution_count": 5,
   "metadata": {
    "collapsed": false
   },
   "outputs": [],
   "source": [
    "#read simple price features\n",
    "feature_path = \"./features/ah/bow\"\n",
    "with open(feature_path, \"rb\") as f:\n",
    "    bow_features = pickle.load(f)"
   ]
  },
  {
   "cell_type": "code",
   "execution_count": 6,
   "metadata": {
    "collapsed": false
   },
   "outputs": [],
   "source": [
    "# features do not have the same index as the original data set - need to reset index\n",
    "df_train.reset_index(inplace = True)\n",
    "cluster_feat.reset_index(inplace = True)"
   ]
  },
  {
   "cell_type": "code",
   "execution_count": 7,
   "metadata": {
    "collapsed": false
   },
   "outputs": [],
   "source": [
    "df_to_concat = [df_train, cluster_feat,price_features,bow_features]\n",
    "df_train = pd.concat(df_to_concat, axis=1)\n",
    "df_train= df_train.drop('index', 1)"
   ]
  },
  {
   "cell_type": "markdown",
   "metadata": {},
   "source": [
    "## It was faster to just use your function that defines folds, than to set up a function to read files and assemble them in the right order. Results are the same and should be consistent, because random state is defined."
   ]
  },
  {
   "cell_type": "code",
   "execution_count": 8,
   "metadata": {
    "collapsed": true
   },
   "outputs": [],
   "source": [
    "def make_folds(df_train):\n",
    "    from sklearn.model_selection import StratifiedKFold\n",
    "    col_feats = [col for col in df_train if col != \"interest_level\"]\n",
    "    X = df_train[col_feats]\n",
    "    target_num_map={\"high\":0, \"medium\":1, \"low\":2}\n",
    "    y = df_train[\"interest_level\"].apply(lambda x: target_num_map[x])\n",
    "    skf = StratifiedKFold(n_splits=5, random_state = 0)\n",
    "    skf.get_n_splits(X, y)\n",
    "    return skf"
   ]
  },
  {
   "cell_type": "code",
   "execution_count": 9,
   "metadata": {
    "collapsed": true
   },
   "outputs": [],
   "source": [
    "def cv_results(df_train,features,classifier,folds):\n",
    "    #the scoring here is defined as negative log-loss metric, don't know why, but easy to change - just multipy by -1\n",
    "    cross_val_scores = cross_val_score(classifier, df_train[features], df_train[\"interest_level\"], cv=folds, scoring='neg_log_loss')\n",
    "    #print(-cross_val_scores)\n",
    "    #print(\"average error\", np.average(-cross_val_scores))\n",
    "    return -cross_val_scores"
   ]
  },
  {
   "cell_type": "code",
   "execution_count": null,
   "metadata": {
    "collapsed": true
   },
   "outputs": [],
   "source": [
    "def runXGB(train_X, train_y, test_X, test_y=None, feature_names=None, seed_val=0, num_rounds=1000):\n",
    "    param = {}\n",
    "    param['objective'] = 'multi:softprob'\n",
    "    param['eta'] = 0.1\n",
    "    param['max_depth'] = 6\n",
    "    param['silent'] = 1\n",
    "    param['num_class'] = 3\n",
    "    param['eval_metric'] = \"mlogloss\"\n",
    "    param['min_child_weight'] = 1\n",
    "    param['subsample'] = 0.7\n",
    "    param['colsample_bytree'] = 0.7\n",
    "    param['seed'] = seed_val\n",
    "    num_rounds = num_rounds\n",
    "\n",
    "    plst = list(param.items())\n",
    "    xgtrain = xgb.DMatrix(train_X, label=train_y)\n",
    "\n",
    "    if test_y is not None:\n",
    "        xgtest = xgb.DMatrix(test_X, label=test_y)\n",
    "        watchlist = [ (xgtrain,'train'), (xgtest, 'test') ]\n",
    "        model = xgb.train(plst, xgtrain, num_rounds, watchlist, early_stopping_rounds=20)\n",
    "    else:\n",
    "        xgtest = xgb.DMatrix(test_X)\n",
    "        model = xgb.train(plst, xgtrain, num_rounds)\n",
    "\n",
    "    pred_test_y = model.predict(xgtest)\n",
    "    return pred_test_y, model"
   ]
  },
  {
   "cell_type": "code",
   "execution_count": 11,
   "metadata": {
    "collapsed": false
   },
   "outputs": [
    {
     "name": "stdout",
     "output_type": "stream",
     "text": [
      "0.672027262563\n"
     ]
    },
    {
     "ename": "NameError",
     "evalue": "name 'cross_val_scores_m_ft' is not defined",
     "output_type": "error",
     "traceback": [
      "\u001b[0;31m---------------------------------------------------------------------------\u001b[0m",
      "\u001b[0;31mNameError\u001b[0m                                 Traceback (most recent call last)",
      "\u001b[0;32m<ipython-input-11-573ea23526c9>\u001b[0m in \u001b[0;36m<module>\u001b[0;34m()\u001b[0m\n\u001b[1;32m     24\u001b[0m \u001b[0;34m\u001b[0m\u001b[0m\n\u001b[1;32m     25\u001b[0m \u001b[0mprint\u001b[0m\u001b[0;34m(\u001b[0m\u001b[0mnp\u001b[0m\u001b[0;34m.\u001b[0m\u001b[0maverage\u001b[0m\u001b[0;34m(\u001b[0m\u001b[0mcross_val_bench\u001b[0m\u001b[0;34m)\u001b[0m\u001b[0;34m)\u001b[0m\u001b[0;34m\u001b[0m\u001b[0m\n\u001b[0;32m---> 26\u001b[0;31m \u001b[0mprint\u001b[0m\u001b[0;34m(\u001b[0m\u001b[0mnp\u001b[0m\u001b[0;34m.\u001b[0m\u001b[0maverage\u001b[0m\u001b[0;34m(\u001b[0m\u001b[0mcross_val_scores_m_ft\u001b[0m\u001b[0;34m)\u001b[0m\u001b[0;34m)\u001b[0m\u001b[0;34m\u001b[0m\u001b[0m\n\u001b[0m\u001b[1;32m     27\u001b[0m \u001b[0mprint\u001b[0m\u001b[0;34m(\u001b[0m\u001b[0mnp\u001b[0m\u001b[0;34m.\u001b[0m\u001b[0maverage\u001b[0m\u001b[0;34m(\u001b[0m\u001b[0mcross_val_bench_price\u001b[0m\u001b[0;34m)\u001b[0m\u001b[0;34m)\u001b[0m\u001b[0;34m\u001b[0m\u001b[0m\n",
      "\u001b[0;31mNameError\u001b[0m: name 'cross_val_scores_m_ft' is not defined"
     ]
    }
   ],
   "source": [
    "from sklearn.ensemble import RandomForestClassifier as RFC\n",
    "from sklearn.model_selection import cross_val_score\n",
    "from sklearn.model_selection import cross_val_predict\n",
    "\n",
    "target_num_map={\"high\":0, \"medium\":1, \"low\":2}\n",
    "df_train[\"interest_level_num\"]=df_train[\"interest_level\"].apply(lambda x: target_num_map[x]).values\n",
    "\n",
    "folds = make_folds(df_train)\n",
    "\n",
    "clf=RFC(n_estimators=100, random_state=42,n_jobs =-1)\n",
    "\n",
    "features_benchmark = simple_feats + [\"cluster_35\"]\n",
    "features_extend = simple_feats + [\"cluster_35\"] + list(bow_features.columns)\n",
    "features_benchmark_pr = simple_feats + [\"cluster_35\"] + [\"price_cut_offset\",\"price_log_cut_offset\"]\n",
    "# need to do this, because there is a word \"feature\" which coincides with the feature column name in the original dataset\n",
    "# this does really srew things up if not ammended!\n",
    "features_extend = [x for x in features_extend if x != 'features']\n",
    "\n",
    "\n",
    "cross_val_bench = cv_results(df_train,features_benchmark, clf, folds)\n",
    "cross_val_extra_features = cv_results(df_train,features_extend, clf,folds)\n",
    "cross_val_bench_price = cv_results(df_train,features_benchmark_pr, clf,folds)\n",
    "\n",
    "print(np.average(cross_val_bench))\n",
    "print(np.average(cross_val_extra_features))\n",
    "print(np.average(cross_val_bench_price))"
   ]
  }
 ],
 "metadata": {
  "anaconda-cloud": {},
  "kernelspec": {
   "display_name": "Python [conda env:py35]",
   "language": "python",
   "name": "conda-env-py35-py"
  },
  "language_info": {
   "codemirror_mode": {
    "name": "ipython",
    "version": 3
   },
   "file_extension": ".py",
   "mimetype": "text/x-python",
   "name": "python",
   "nbconvert_exporter": "python",
   "pygments_lexer": "ipython3",
   "version": "3.5.2"
  }
 },
 "nbformat": 4,
 "nbformat_minor": 1
}
